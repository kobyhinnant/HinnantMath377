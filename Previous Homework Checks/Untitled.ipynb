{
 "cells": [
  {
   "cell_type": "code",
   "execution_count": 34,
   "metadata": {},
   "outputs": [
    {
     "data": {
      "text/plain": [
       "0.0356739933472524"
      ]
     },
     "execution_count": 34,
     "metadata": {},
     "output_type": "execute_result"
    }
   ],
   "source": [
    "\n",
    "from datascience import *\n",
    "import numpy as np\n",
    "from math import *\n",
    "from scipy import stats\n",
    "import matplotlib.pyplot as plt\n",
    "%matplotlib inline\n",
    "\n",
    "stats.poisson.cdf(0,2/3*60,loc=0)"
   ]
  },
  {
   "cell_type": "code",
   "execution_count": 23,
   "metadata": {},
   "outputs": [
    {
     "name": "stdout",
     "output_type": "stream",
     "text": [
      "[1001 1701  541 1286  881 1923   14 1369  788   54  297 1645 1345 1917\n",
      " 1114 1211  830  307 1665 1884  349  423  193 1266  561  301 1304  413\n",
      " 1594 1348 1081  288 1815  196  945 1743   18  158  401  374]\n",
      "1826.2\n"
     ]
    },
    {
     "data": {
      "text/plain": [
       "(array([5., 5., 5., 5., 5., 5., 5., 5., 5., 5., 5., 5., 5., 5., 5., 5., 5.,\n",
       "        5., 5., 5., 5., 5., 5., 5., 5., 5., 5., 5., 5., 5., 5., 5., 5., 5.,\n",
       "        5., 5., 5., 5., 5., 5.]),\n",
       " array([95., 95., 95., 95., 95., 95., 95., 95., 95., 95., 95., 95., 95.,\n",
       "        95., 95., 95., 95., 95., 95., 95., 95., 95., 95., 95., 95., 95.,\n",
       "        95., 95., 95., 95., 95., 95., 95., 95., 95., 95., 95., 95., 95.,\n",
       "        95.]))"
      ]
     },
     "execution_count": 23,
     "metadata": {},
     "output_type": "execute_result"
    }
   ],
   "source": [
    "np.random.seed(2020)\n",
    "plane_serial_numbers = np.random.choice(np.arange(2000),40,replace = False)\n",
    "print(plane_serial_numbers)\n",
    "teststat = np.mean(plane_serial_numbers)*2-1\n",
    "print(teststat)\n",
    "\n",
    "bs = stats.binom.rvs(np.random.choice(np.arange(2000),40,replace = False),teststat,1/40)/40\n",
    "left = np.percentile(5,bs)\n",
    "right = np.percentile(95,bs)\n",
    "left,right"
   ]
  },
  {
   "cell_type": "code",
   "execution_count": null,
   "metadata": {},
   "outputs": [],
   "source": [
    "# this_times_k_equals_one = np.round(integrate.quad(lambda x:x**2,0,2)[0],5)     cdf = 1\n",
    "# V = (x-EX)^2*f(x)\n",
    "\n",
    "ts=[]\n",
    "for _ in np.arange(10000):\n",
    "    rs = stats.multinomial.rvs(100,[.25,.25,.25,.25],size=1)\n",
    "    ts=np.append(ts,sum(abs(sum(rs)-25)))\n",
    "ts\n",
    "plt.hist(ts)\n",
    "plt.show()\n",
    "np.mean(ts>= value of test statistic)\n",
    "#at least = 1 - one under or less"
   ]
  }
 ],
 "metadata": {
  "kernelspec": {
   "display_name": "Python 3",
   "language": "python",
   "name": "python3"
  },
  "language_info": {
   "codemirror_mode": {
    "name": "ipython",
    "version": 3
   },
   "file_extension": ".py",
   "mimetype": "text/x-python",
   "name": "python",
   "nbconvert_exporter": "python",
   "pygments_lexer": "ipython3",
   "version": "3.6.5"
  }
 },
 "nbformat": 4,
 "nbformat_minor": 2
}
